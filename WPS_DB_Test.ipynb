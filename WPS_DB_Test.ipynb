{
 "cells": [
  {
   "attachments": {},
   "cell_type": "markdown",
   "metadata": {},
   "source": [
    "## This notebook for segmentation testing step by step"
   ]
  },
  {
   "attachments": {},
   "cell_type": "markdown",
   "metadata": {},
   "source": [
    "### Segmenting"
   ]
  },
  {
   "attachments": {},
   "cell_type": "markdown",
   "metadata": {},
   "source": [
    "**Run the cell below once** to delete the previous test's result folder. "
   ]
  },
  {
   "cell_type": "code",
   "execution_count": 9,
   "metadata": {},
   "outputs": [],
   "source": [
    "!rm -r Screenshots\n",
    "!rm content*"
   ]
  },
  {
   "attachments": {},
   "cell_type": "markdown",
   "metadata": {},
   "source": [
    "**Run the below cell twice** at the same webpage's URL if you want to see the changes in each region."
   ]
  },
  {
   "cell_type": "code",
   "execution_count": 11,
   "metadata": {},
   "outputs": [
    {
     "name": "stdout",
     "output_type": "stream",
     "text": [
      "Done\n",
      "Page width:  1920 , Page height:  3739.75 \n",
      "\n",
      "Epsilon:  717.0738521948741\n"
     ]
    }
   ],
   "source": [
    "!python WPS_DB_Test.py \"https://stackexchange.com/?page=2\""
   ]
  },
  {
   "attachments": {},
   "cell_type": "markdown",
   "metadata": {},
   "source": [
    "### Comparing"
   ]
  },
  {
   "attachments": {},
   "cell_type": "markdown",
   "metadata": {},
   "source": [
    "Run the below cell to see the changes between two running times. The image result is written in the current folder."
   ]
  },
  {
   "cell_type": "code",
   "execution_count": 12,
   "metadata": {},
   "outputs": [
    {
     "name": "stdout",
     "output_type": "stream",
     "text": [
      "1.0\n",
      "1.0\n",
      "1.0\n",
      "1.0\n",
      "1.0\n",
      "1.0\n",
      "0.1111111111111111\n",
      "1.0\n",
      "1.0\n",
      "1.0\n",
      "1.0\n",
      "1.0\n",
      "1.0\n",
      "0.0\n",
      "0.0\n",
      "1.0\n",
      "1.0\n",
      "1.0\n",
      "1.0\n",
      "1.0\n",
      "1.0\n",
      "0.07575757575757576\n",
      "0.07575757575757576\n",
      "0.07575757575757576\n",
      "1.0\n",
      "1.0\n",
      "1.0\n",
      "1.0\n",
      "1.0\n",
      "1.0\n",
      "0.13846153846153847\n",
      "0.13846153846153847\n",
      "0.13846153846153847\n",
      "0.15789473684210525\n",
      "1.0\n",
      "1.0\n",
      "1.0\n",
      "1.0\n",
      "1.0\n",
      "1.0\n",
      "0.2777777777777778\n",
      "0.2777777777777778\n",
      "0.2777777777777778\n",
      "0.2777777777777778\n",
      "0.2777777777777778\n",
      "1.0\n",
      "1.0\n",
      "1.0\n",
      "1.0\n",
      "1.0\n",
      "1.0\n",
      "0.023121387283236993\n",
      "0.023121387283236993\n",
      "0.023121387283236993\n",
      "0.024691358024691357\n",
      "0.05375494071146245\n",
      "1.0\n",
      "1.0\n",
      "1.0\n",
      "1.0\n",
      "1.0\n",
      "1.0\n",
      "0.0\n",
      "0.0014068545077963188\n",
      "0.0014068545077963188\n",
      "0.0034325389086086516\n",
      "0.0034325389086086516\n",
      "0.05815223989316499\n",
      "0.05815223989316499\n",
      "0.05815223989316499\n",
      "0.05815223989316499\n",
      "0.05815223989316499\n",
      "0.05815223989316499\n",
      "0.007847753580537572\n",
      "0.007847753580537572\n",
      "0.017103984450923225\n",
      "0.02295186483901817\n",
      "0.02295186483901817\n",
      "0.25782125751554064\n",
      "0.25782125751554064\n",
      "0.25782125751554064\n",
      "0.25782125751554064\n",
      "0.25782125751554064\n",
      "0.25782125751554064\n",
      "0.25806451612903225\n",
      "0.25806451612903225\n",
      "0.25806451612903225\n",
      "0.25806451612903225\n",
      "0.25806451612903225\n",
      "1.0\n",
      "1.0\n",
      "1.0\n",
      "1.0\n",
      "1.0\n",
      "1.0\n",
      "0.0\n",
      "0.0\n",
      "0.0\n",
      "0.0\n",
      "0.0\n",
      "1.0\n",
      "1.0\n",
      "1.0\n",
      "1.0\n",
      "1.0\n",
      "0.013824884792626729\n",
      "0.013824884792626729\n",
      "0.013824884792626729\n",
      "0.23333333333333334\n",
      "0.23333333333333334\n",
      "0.9285714285714286\n",
      "0.9285714285714286\n",
      "0.9285714285714286\n",
      "0.9285714285714286\n",
      "0.007020731808044933\n",
      "0.012948793407886992\n",
      "0.08256880733944955\n",
      "0.08256880733944955\n",
      "0.1415929203539823\n",
      "1.0\n",
      "1.0\n",
      "1.0\n",
      "0.004690248192300176\n",
      "0.08771929824561403\n",
      "0.08771929824561403\n",
      "0.21610169491525424\n",
      "0.21610169491525424\n",
      "0.9702702702702702\n",
      "0.9702702702702702\n",
      "0.11441647597254005\n",
      "0.11441647597254005\n",
      "0.11441647597254005\n",
      "0.11441647597254005\n",
      "0.11441647597254005\n",
      "1.0\n"
     ]
    }
   ],
   "source": [
    "!python ChangeDetector.py"
   ]
  }
 ],
 "metadata": {
  "kernelspec": {
   "display_name": "Python 3",
   "language": "python",
   "name": "python3"
  },
  "language_info": {
   "codemirror_mode": {
    "name": "ipython",
    "version": 3
   },
   "file_extension": ".py",
   "mimetype": "text/x-python",
   "name": "python",
   "nbconvert_exporter": "python",
   "pygments_lexer": "ipython3",
   "version": "3.10.9 (main, Dec 19 2022, 17:35:49) [GCC 12.2.0]"
  },
  "orig_nbformat": 4,
  "vscode": {
   "interpreter": {
    "hash": "767d51c1340bd893661ea55ea3124f6de3c7a262a8b4abca0554b478b1e2ff90"
   }
  }
 },
 "nbformat": 4,
 "nbformat_minor": 2
}
