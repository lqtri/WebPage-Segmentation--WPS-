{
 "cells": [
  {
   "attachments": {},
   "cell_type": "markdown",
   "metadata": {},
   "source": [
    "### This notebook for segmentation testing step by step"
   ]
  },
  {
   "cell_type": "code",
   "execution_count": 13,
   "metadata": {},
   "outputs": [
    {
     "name": "stdout",
     "output_type": "stream",
     "text": [
      "Collecting html5lib\n",
      "  Downloading html5lib-1.1-py2.py3-none-any.whl (112 kB)\n",
      "     ------------------------------------ 112.2/112.2 kB 653.4 kB/s eta 0:00:00\n",
      "Requirement already satisfied: six>=1.9 in c:\\users\\welcome\\appdata\\local\\programs\\python\\python310\\lib\\site-packages (from html5lib) (1.16.0)\n",
      "Requirement already satisfied: webencodings in c:\\users\\welcome\\appdata\\local\\programs\\python\\python310\\lib\\site-packages (from html5lib) (0.5.1)\n",
      "Installing collected packages: html5lib\n",
      "Successfully installed html5lib-1.1\n",
      "Note: you may need to restart the kernel to use updated packages.\n"
     ]
    }
   ],
   "source": [
    "pip install html5lib"
   ]
  },
  {
   "cell_type": "code",
   "execution_count": 1,
   "metadata": {},
   "outputs": [],
   "source": [
    "import sys\n",
    "import WPS_DB as Wpsdb\n",
    "from ImageOut import ImageOut\n",
    "from urllib.parse import unquote\n",
    "from ElementsClustering import Clustering\n",
    "from sklearn.cluster import DBSCAN\n",
    "import numpy as np"
   ]
  },
  {
   "cell_type": "code",
   "execution_count": 2,
   "metadata": {},
   "outputs": [],
   "source": [
    "### Import web page URL\n",
    "pageURL = \"https://stackoverflow.com/questions\""
   ]
  },
  {
   "cell_type": "code",
   "execution_count": null,
   "metadata": {},
   "outputs": [],
   "source": [
    "wpsdb = Wpsdb.Wpsdb(unquote(pageURL, encoding=\"utf-8\"))\n",
    "wpsdb.setRound(10)\n",
    "blocks = wpsdb.service()"
   ]
  },
  {
   "cell_type": "code",
   "execution_count": null,
   "metadata": {},
   "outputs": [],
   "source": [
    "for block in blocks:\n",
    "    print(block.width, \" \", block.height)"
   ]
  },
  {
   "cell_type": "code",
   "execution_count": null,
   "metadata": {},
   "outputs": [],
   "source": [
    "pageWidth = wpsdb.nodeList[0].visual_cues['bounds']['width']\n",
    "pageHeight = wpsdb.nodeList[0].visual_cues['bounds']['height']\n",
    "print('Page width: ', pageWidth, ', Page height: ', pageHeight,'\\n')\n",
    "\n",
    "cluster = Clustering(blocks, pageWidth, pageHeight, wpsdb.nodeList[0])\n",
    "cluster.DBSCAN()\n",
    "    \n",
    "imgOut = ImageOut()\n",
    "imgOut.outBlock(cluster.blocks, wpsdb.fileName,1)\n",
    "print(len(blocks),\" clusters ---> \",len(cluster.blocks), \" clusters\")"
   ]
  },
  {
   "cell_type": "code",
   "execution_count": 14,
   "metadata": {},
   "outputs": [],
   "source": [
    "# importing the libraries\n",
    "\n",
    "from bs4 import BeautifulSoup\n",
    "\n",
    "import requests\n",
    "\n",
    "\n",
    "url= \"https://stackoverflow.com/questions\"\n",
    "\n",
    "# Make a GET request to fetch the raw HTML content\n",
    "\n",
    "html_content = requests.get(url).text\n",
    "\n",
    "\n",
    "# Parse the html conte\n",
    "\n",
    "soup = BeautifulSoup(html_content, features=\"xml\")\n",
    "\n",
    "with open(\"output1.xml\", \"w\", encoding='utf-8') as file:\n",
    "    file.write(str(soup.prettify()))"
   ]
  },
  {
   "cell_type": "code",
   "execution_count": 12,
   "metadata": {},
   "outputs": [],
   "source": [
    "# importing the libraries\n",
    "\n",
    "from bs4 import BeautifulSoup\n",
    "\n",
    "import requests\n",
    "\n",
    "\n",
    "# Make a GET request to fetch the raw HTML content\n",
    "\n",
    "html_content2 = requests.get(url).text\n",
    "\n",
    "\n",
    "# Parse the html conte\n",
    "\n",
    "soup2 = BeautifulSoup(html_content2, features=\"xml\")\n",
    "\n",
    "with open(\"output2.xml\", \"w\", encoding='utf-8') as file:\n",
    "    file.write(str(soup2.prettify()))"
   ]
  },
  {
   "cell_type": "code",
   "execution_count": 5,
   "metadata": {},
   "outputs": [
    {
     "name": "stdout",
     "output_type": "stream",
     "text": [
      "Collecting xmldiff\n",
      "  Downloading xmldiff-2.5-py3-none-any.whl (59 kB)\n",
      "     -------------------------------------- 59.8/59.8 kB 527.2 kB/s eta 0:00:00\n",
      "Requirement already satisfied: lxml>=3.1.0 in c:\\users\\welcome\\appdata\\local\\programs\\python\\python310\\lib\\site-packages (from xmldiff) (4.9.2)\n",
      "Requirement already satisfied: setuptools in c:\\users\\welcome\\appdata\\local\\programs\\python\\python310\\lib\\site-packages (from xmldiff) (57.4.0)Note: you may need to restart the kernel to use updated packages.\n",
      "Installing collected packages: xmldiff\n",
      "\n",
      "Successfully installed xmldiff-2.5\n"
     ]
    }
   ],
   "source": [
    "pip install xmldiff"
   ]
  },
  {
   "cell_type": "code",
   "execution_count": 25,
   "metadata": {},
   "outputs": [
    {
     "ename": "AttributeError",
     "evalue": "'str' object has no attribute 'prepare'",
     "output_type": "error",
     "traceback": [
      "\u001b[1;31m---------------------------------------------------------------------------\u001b[0m",
      "\u001b[1;31mAttributeError\u001b[0m                            Traceback (most recent call last)",
      "\u001b[1;32m~\\AppData\\Local\\Temp/ipykernel_3608/329516443.py\u001b[0m in \u001b[0;36m<module>\u001b[1;34m\u001b[0m\n\u001b[0;32m      2\u001b[0m \u001b[1;32mfrom\u001b[0m \u001b[0mxmldiff\u001b[0m \u001b[1;32mimport\u001b[0m \u001b[0mmain\u001b[0m\u001b[1;33m,\u001b[0m \u001b[0mformatting\u001b[0m\u001b[1;33m\u001b[0m\u001b[1;33m\u001b[0m\u001b[0m\n\u001b[0;32m      3\u001b[0m \u001b[1;33m\u001b[0m\u001b[0m\n\u001b[1;32m----> 4\u001b[1;33m diff = main.diff_files('output1.xml', 'output2.xml',\n\u001b[0m\u001b[0;32m      5\u001b[0m                        formatter='xml')\n",
      "\u001b[1;32mc:\\Users\\Welcome\\AppData\\Local\\Programs\\Python\\Python310\\lib\\site-packages\\xmldiff\\main.py\u001b[0m in \u001b[0;36mdiff_files\u001b[1;34m(left, right, diff_options, formatter)\u001b[0m\n\u001b[0;32m     49\u001b[0m \u001b[1;32mdef\u001b[0m \u001b[0mdiff_files\u001b[0m\u001b[1;33m(\u001b[0m\u001b[0mleft\u001b[0m\u001b[1;33m,\u001b[0m \u001b[0mright\u001b[0m\u001b[1;33m,\u001b[0m \u001b[0mdiff_options\u001b[0m\u001b[1;33m=\u001b[0m\u001b[1;32mNone\u001b[0m\u001b[1;33m,\u001b[0m \u001b[0mformatter\u001b[0m\u001b[1;33m=\u001b[0m\u001b[1;32mNone\u001b[0m\u001b[1;33m)\u001b[0m\u001b[1;33m:\u001b[0m\u001b[1;33m\u001b[0m\u001b[1;33m\u001b[0m\u001b[0m\n\u001b[0;32m     50\u001b[0m     \u001b[1;34m\"\"\"Takes two filenames or streams, and diffs the XML in those files\"\"\"\u001b[0m\u001b[1;33m\u001b[0m\u001b[1;33m\u001b[0m\u001b[0m\n\u001b[1;32m---> 51\u001b[1;33m     return _diff(\n\u001b[0m\u001b[0;32m     52\u001b[0m         \u001b[0metree\u001b[0m\u001b[1;33m.\u001b[0m\u001b[0mparse\u001b[0m\u001b[1;33m,\u001b[0m \u001b[0mleft\u001b[0m\u001b[1;33m,\u001b[0m \u001b[0mright\u001b[0m\u001b[1;33m,\u001b[0m \u001b[0mdiff_options\u001b[0m\u001b[1;33m=\u001b[0m\u001b[0mdiff_options\u001b[0m\u001b[1;33m,\u001b[0m \u001b[0mformatter\u001b[0m\u001b[1;33m=\u001b[0m\u001b[0mformatter\u001b[0m\u001b[1;33m\u001b[0m\u001b[1;33m\u001b[0m\u001b[0m\n\u001b[0;32m     53\u001b[0m     )\n",
      "\u001b[1;32mc:\\Users\\Welcome\\AppData\\Local\\Programs\\Python\\Python310\\lib\\site-packages\\xmldiff\\main.py\u001b[0m in \u001b[0;36m_diff\u001b[1;34m(parse_method, left, right, diff_options, formatter)\u001b[0m\n\u001b[0;32m     35\u001b[0m     \u001b[0mleft_tree\u001b[0m \u001b[1;33m=\u001b[0m \u001b[0mparse_method\u001b[0m\u001b[1;33m(\u001b[0m\u001b[0mleft\u001b[0m\u001b[1;33m,\u001b[0m \u001b[0mparser\u001b[0m\u001b[1;33m)\u001b[0m\u001b[1;33m\u001b[0m\u001b[1;33m\u001b[0m\u001b[0m\n\u001b[0;32m     36\u001b[0m     \u001b[0mright_tree\u001b[0m \u001b[1;33m=\u001b[0m \u001b[0mparse_method\u001b[0m\u001b[1;33m(\u001b[0m\u001b[0mright\u001b[0m\u001b[1;33m,\u001b[0m \u001b[0mparser\u001b[0m\u001b[1;33m)\u001b[0m\u001b[1;33m\u001b[0m\u001b[1;33m\u001b[0m\u001b[0m\n\u001b[1;32m---> 37\u001b[1;33m     return diff_trees(\n\u001b[0m\u001b[0;32m     38\u001b[0m         \u001b[0mleft_tree\u001b[0m\u001b[1;33m,\u001b[0m \u001b[0mright_tree\u001b[0m\u001b[1;33m,\u001b[0m \u001b[0mdiff_options\u001b[0m\u001b[1;33m=\u001b[0m\u001b[0mdiff_options\u001b[0m\u001b[1;33m,\u001b[0m \u001b[0mformatter\u001b[0m\u001b[1;33m=\u001b[0m\u001b[0mformatter\u001b[0m\u001b[1;33m\u001b[0m\u001b[1;33m\u001b[0m\u001b[0m\n\u001b[0;32m     39\u001b[0m     )\n",
      "\u001b[1;32mc:\\Users\\Welcome\\AppData\\Local\\Programs\\Python\\Python310\\lib\\site-packages\\xmldiff\\main.py\u001b[0m in \u001b[0;36mdiff_trees\u001b[1;34m(left, right, diff_options, formatter)\u001b[0m\n\u001b[0;32m     18\u001b[0m     \u001b[1;34m\"\"\"Takes two lxml root elements or element trees\"\"\"\u001b[0m\u001b[1;33m\u001b[0m\u001b[1;33m\u001b[0m\u001b[0m\n\u001b[0;32m     19\u001b[0m     \u001b[1;32mif\u001b[0m \u001b[0mformatter\u001b[0m \u001b[1;32mis\u001b[0m \u001b[1;32mnot\u001b[0m \u001b[1;32mNone\u001b[0m\u001b[1;33m:\u001b[0m\u001b[1;33m\u001b[0m\u001b[1;33m\u001b[0m\u001b[0m\n\u001b[1;32m---> 20\u001b[1;33m         \u001b[0mformatter\u001b[0m\u001b[1;33m.\u001b[0m\u001b[0mprepare\u001b[0m\u001b[1;33m(\u001b[0m\u001b[0mleft\u001b[0m\u001b[1;33m,\u001b[0m \u001b[0mright\u001b[0m\u001b[1;33m)\u001b[0m\u001b[1;33m\u001b[0m\u001b[1;33m\u001b[0m\u001b[0m\n\u001b[0m\u001b[0;32m     21\u001b[0m     \u001b[1;32mif\u001b[0m \u001b[0mdiff_options\u001b[0m \u001b[1;32mis\u001b[0m \u001b[1;32mNone\u001b[0m\u001b[1;33m:\u001b[0m\u001b[1;33m\u001b[0m\u001b[1;33m\u001b[0m\u001b[0m\n\u001b[0;32m     22\u001b[0m         \u001b[0mdiff_options\u001b[0m \u001b[1;33m=\u001b[0m \u001b[1;33m{\u001b[0m\u001b[1;33m}\u001b[0m\u001b[1;33m\u001b[0m\u001b[1;33m\u001b[0m\u001b[0m\n",
      "\u001b[1;31mAttributeError\u001b[0m: 'str' object has no attribute 'prepare'"
     ]
    }
   ],
   "source": [
    "from lxml import etree\n",
    "from xmldiff import main, formatting\n",
    "\n",
    "diff = main.diff_files('output1.xml', 'output2.xml',\n",
    "                       formatter=formatting.XMLFormatter())"
   ]
  },
  {
   "cell_type": "code",
   "execution_count": 22,
   "metadata": {},
   "outputs": [],
   "source": [
    "with open(\"diff.html\", \"w\", encoding='utf-8') as file:\n",
    "    file.write(str(diff))"
   ]
  }
 ],
 "metadata": {
  "kernelspec": {
   "display_name": "Python 3",
   "language": "python",
   "name": "python3"
  },
  "language_info": {
   "codemirror_mode": {
    "name": "ipython",
    "version": 3
   },
   "file_extension": ".py",
   "mimetype": "text/x-python",
   "name": "python",
   "nbconvert_exporter": "python",
   "pygments_lexer": "ipython3",
   "version": "3.10.0"
  },
  "orig_nbformat": 4,
  "vscode": {
   "interpreter": {
    "hash": "268a003517095b3e00ec49a0832a87899bac50083c754616205934d33472dfcd"
   }
  }
 },
 "nbformat": 4,
 "nbformat_minor": 2
}
