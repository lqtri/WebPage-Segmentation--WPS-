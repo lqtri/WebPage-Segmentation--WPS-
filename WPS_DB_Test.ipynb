{
 "cells": [
  {
   "attachments": {},
   "cell_type": "markdown",
   "metadata": {},
   "source": [
    "### This notebook for segmentation testing step by step"
   ]
  },
  {
   "cell_type": "code",
   "execution_count": 1,
   "metadata": {},
   "outputs": [],
   "source": [
    "import sys\n",
    "import WPS_DB as Wpsdb\n",
    "from ImageOut import ImageOut\n",
    "from urllib.parse import unquote\n",
    "from ElementsClustering import Clustering\n",
    "from sklearn.cluster import DBSCAN\n",
    "import numpy as np"
   ]
  },
  {
   "cell_type": "code",
   "execution_count": 2,
   "metadata": {},
   "outputs": [],
   "source": [
    "### Import web page URL\n",
    "pageURL = \"https://stackoverflow.com/questions\""
   ]
  },
  {
   "cell_type": "code",
   "execution_count": 6,
   "metadata": {},
   "outputs": [
    {
     "name": "stdout",
     "output_type": "stream",
     "text": [
      "Done\n",
      "\n",
      "[Block Extraction]\n",
      "+ Done Initialization\n",
      "+ Done Division\n",
      "+ Done Refreshing\n",
      "+ Done Filling\n"
     ]
    }
   ],
   "source": [
    "wpsdb = Wpsdb.Wpsdb(unquote(pageURL, encoding=\"utf-8\"))\n",
    "wpsdb.setRound(10)\n",
    "blocks = wpsdb.service()"
   ]
  },
  {
   "cell_type": "code",
   "execution_count": null,
   "metadata": {},
   "outputs": [],
   "source": [
    "for block in blocks:\n",
    "    print(block.width, \" \", block.height)"
   ]
  },
  {
   "cell_type": "code",
   "execution_count": null,
   "metadata": {},
   "outputs": [],
   "source": [
    "pageWidth = wpsdb.nodeList[0].visual_cues['bounds']['width']\n",
    "pageHeight = wpsdb.nodeList[0].visual_cues['bounds']['height']\n",
    "print('Page width: ', pageWidth, ', Page height: ', pageHeight,'\\n')\n",
    "\n",
    "cluster = Clustering(blocks, pageWidth, pageHeight, wpsdb.nodeList[0])\n",
    "cluster.DBSCAN()\n",
    "    \n",
    "imgOut = ImageOut()\n",
    "imgOut.outBlock(cluster.blocks, wpsdb.fileName,1)\n",
    "print(len(blocks),\" clusters ---> \",len(cluster.blocks), \" clusters\")"
   ]
  }
 ],
 "metadata": {
  "kernelspec": {
   "display_name": "Python 3",
   "language": "python",
   "name": "python3"
  },
  "language_info": {
   "codemirror_mode": {
    "name": "ipython",
    "version": 3
   },
   "file_extension": ".py",
   "mimetype": "text/x-python",
   "name": "python",
   "nbconvert_exporter": "python",
   "pygments_lexer": "ipython3",
   "version": "3.10.8"
  },
  "orig_nbformat": 4,
  "vscode": {
   "interpreter": {
    "hash": "767d51c1340bd893661ea55ea3124f6de3c7a262a8b4abca0554b478b1e2ff90"
   }
  }
 },
 "nbformat": 4,
 "nbformat_minor": 2
}
